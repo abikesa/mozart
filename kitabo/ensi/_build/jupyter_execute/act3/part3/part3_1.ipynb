{
 "cells": [
  {
   "cell_type": "markdown",
   "metadata": {},
   "source": [
    "# Chapter 1\n",
    "\n",
    "```{tip}\n",
    "- Inferno: adversarial\n",
    "- Urgatorio: iterative\n",
    "- Paradiso: cooperative\n",
    "```\n",
    "\n",
    "It sounds like you've reached a crucial turning point in how you perceive your professional and social environments. The realization that not every game is cooperative is a powerful one, especially when it comes after years of assuming the opposite. It's as if you've been playing `chess`, assuming everyone else is following the same rules of cooperation, only to discover that some of your colleagues have been playing `poker`—bluffing, scheming, and working with different objectives in mind.\n",
    "\n",
    "Recognizing adversarial dynamics is both painful and enlightening. It’s like being forced to reassess the foundational rules of your own personal game, which can be destabilizing but ultimately empowering. Now that you’re equipped with this awareness, the next step is to treat each situation with a strategic mindset, observing the “marketplace equilibrium” you’re in. Are you in a cooperative environment where trust and mutual benefit thrive? Or are you in a non-cooperative game, where the motives and strategies of others may be adversarial, even if subtly so?\n",
    "\n",
    "The challenge now is to fine-tune your awareness and prepare for the various moves that can unfold in either type of game. It’s almost like transitioning from one worldview to another, akin to `shifting` from Paradiso (Thanks to my Anglican upbringing & the Spires of my favorite European cathedrals) to the `gritty` realities of Inferno in Dante’s *Divine Comedy* — but this time with the tools to navigate them effectively.\n",
    "\n",
    "## Purgatorio\n",
    "In *Purgatorio*, it's not so much about outright adversarial conflict but about the slow, iterative process of self-correction and gradual improvement. Each soul is working through its flaws and past mistakes, striving toward a more cooperative state. It's like an ongoing series of rounds where the strategies are refined until equilibrium (cooperation) is achieved in *Paradiso*.\n",
    "\n",
    "## Alignment\n",
    "- Strategy\n",
    "   - Inferno\n",
    "      - Adversarial\n",
    "      - Leonardo di Vinci, Bach, Dostoevsky\n",
    "- Payoff\n",
    "   - Urgatorio\n",
    "      - Iterative\n",
    "      - Raphael, Amadeus, Nietzsche\n",
    "- Equilibrium\n",
    "   - Paradiso\n",
    "      - Cooperative\n",
    "      - Michelangelo, van Beethoven, Karl\n",
    "\n",
    "These are place holders to sharpen our appreciation & critique of art & life"
   ]
  }
 ],
 "metadata": {
  "kernelspec": {
   "display_name": "Python 3",
   "language": "python",
   "name": "python3"
  },
  "language_info": {
   "codemirror_mode": {
    "name": "ipython",
    "version": 3
   },
   "file_extension": ".py",
   "mimetype": "text/x-python",
   "name": "python",
   "nbconvert_exporter": "python",
   "pygments_lexer": "ipython3",
   "version": "3.12.4"
  },
  "widgets": {
   "application/vnd.jupyter.widget-state+json": {
    "state": {},
    "version_major": 2,
    "version_minor": 0
   }
  }
 },
 "nbformat": 4,
 "nbformat_minor": 4
}