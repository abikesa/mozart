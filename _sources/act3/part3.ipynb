{
 "cells": [
  {
   "cell_type": "markdown",
   "metadata": {},
   "source": [
    "# Part 3\n",
    "\n",
    "```{figure} https://upload.wikimedia.org/wikipedia/commons/thumb/b/bb/%27David%27_by_Michelangelo_Fir_JBU004.jpg/1920px-%27David%27_by_Michelangelo_Fir_JBU004.jpg\n",
    "---\n",
    "width: 100%\n",
    "height: 100%\n",
    "---\n",
    "_Tension & Release_. Whether its psychological or materialistic within the sling he's about to deploy to his [distant goal](https://www.gutenberg.org/files/4363/4363-h/4363-h.htm), \"Tension\" is masterfully displayed here. A century or so earlier, Donatello presented his victorious David to the world in a state of \"Release\". Aesthetically, tension always wins. Moralistically, release is promised.\n",
    "```"
   ]
  }
 ],
 "metadata": {
  "kernelspec": {
   "display_name": "Python 3",
   "language": "python",
   "name": "python3"
  },
  "language_info": {
   "codemirror_mode": {
    "name": "ipython",
    "version": 3
   },
   "file_extension": ".py",
   "mimetype": "text/x-python",
   "name": "python",
   "nbconvert_exporter": "python",
   "pygments_lexer": "ipython3",
   "version": "3.12.4"
  },
  "widgets": {
   "application/vnd.jupyter.widget-state+json": {
    "state": {},
    "version_major": 2,
    "version_minor": 0
   }
  }
 },
 "nbformat": 4,
 "nbformat_minor": 4
}
